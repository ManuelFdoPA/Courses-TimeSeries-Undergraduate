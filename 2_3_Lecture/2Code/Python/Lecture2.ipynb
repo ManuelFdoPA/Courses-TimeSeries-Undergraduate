{
 "cells": [
  {
   "cell_type": "markdown",
   "metadata": {},
   "source": [
    "# Lectures 2-3"
   ]
  },
  {
   "cell_type": "markdown",
   "metadata": {},
   "source": [
    "We have defined a time series as a collection of random variables indexed by time. In the following lectures I want to do two things. \n",
    "\n",
    "First, I want to show you that time series data need not have the typical macro/financial flavor that you have seen before (such as quarterly GDP growth, or daily quotes for the federal funds rate). To do so, I will give you an example of a time series of \"text data\". \n",
    "\n",
    "In terms of coding, we will learn how to \n",
    "\n",
    "- Extract text from a pdf file\n",
    "- Store text in a python [data frame](https://pandas.pydata.org/pandas-docs/version/0.23.4/generated/pandas.DataFrame.html)\n",
    "- Manipulate the columns of a data frame\n",
    "\n",
    "Second, I want to start introducing some notation that we will use throught the rest of the course. Today we will answer the following questions: \n",
    "\n",
    "- What is the mean function of a time series?\n",
    "- What does we mean when we say that two random variables are independent?\n",
    "- What is the autocorrelation function of a time series?\n",
    "\n",
    "\n"
   ]
  },
  {
   "cell_type": "markdown",
   "metadata": {},
   "source": [
    "## a) A time series of text data"
   ]
  },
  {
   "cell_type": "markdown",
   "metadata": {},
   "source": [
    "The term **\"monetary policy\"** refers to the actions undertaken by a central bank, such as the Federal Reserve in the United States, to influence the availability and cost of money and credit to help promote national economic goals (such as growth and price stability). \n",
    "\n",
    "[Monetary policy in the United States](https://www.federalreserve.gov/monetarypolicy.htm) comprises the Federal Reserve's **actions** and **communications** to promote \n",
    "\n",
    "- maximum employment \n",
    "- stable prices\n",
    "- moderate long-term interest rates\n",
    "\n",
    "These are the three economic goals the U.S. Congress has instructed the Federal Reserve to pursue.\n",
    "\n",
    "The Federal Reserve conducts the nation's monetary policy by managing the level of short-term interest rates and influencing the overall availability and cost of credit in the economy. Monetary policy directly affects short-term interest rates; it indirectly affects longer-term interest rates, currency exchange rates, and prices of equities and other assets and thus wealth. Through these channels, monetary policy influences household spending, business investment, production, employment, and inflation.\n",
    "\n",
    "\n",
    "In the United States, the Federal Reserve controls three tools of monetary policy: \n",
    "\n",
    "1) [The discount rate](https://www.federalreserve.gov/monetarypolicy/discountrate.htm) (interest rate charged to commercial banks and other depository institutions on overnight loans they receive from the their regional Federal Reserve Bank's lending facility; also known as the discount window)\n",
    "\n",
    "2) [Reserve requirements](https://www.federalreserve.gov/monetarypolicy/reservereq.htm) (the amount of funds that a depository institution must hold in reserve against specified deposit liabilities)\n",
    "\n",
    "3) [Open Market Operations](https://www.federalreserve.gov/monetarypolicy/openmarket.htm) (the purchase and sale of securities in the open market). The **Federal Open Market Committee** (FOMC) is the body direcly responsible for open market operations. The FOMC holds eight regularly scheduled meetings per year. At these meetings, the Committee reviews economic and financial conditions, determines the appropriate stance of monetary policy (typically by setting a target for the federal funds rate), and assesses the risks to its long-run goals of price stability and sustainable economic growth.\n",
    "\n",
    "Before the financial crisis of 2008, The Federal Reserve used Open Market Operations to adjust the supply of reserve balances so as to keep the federal funds rate--the interest rate at which depository institutions lend reserve balances to other depository institutions overnight--around the target established by the FOMC (the DFEDTAR series we plotted last class). \n",
    "\n",
    "From the end of 2008 through October 2014, the Federal Reserve used open market purchases of longer-term securities with the goal of putting downward pressure on longer-term interest rates.\n",
    "\n",
    "The **FOMC transcripts**, which provide a detailed record of FOMC meeting proceedings are available from 1936 to 2013. In this class, we will take a look at a subset of them; namely those corresponding to the Greenspan era.\n",
    "\n",
    "\n",
    "\n",
    "\n"
   ]
  },
  {
   "cell_type": "markdown",
   "metadata": {},
   "source": [
    "## a.1) Opening pdfs and extracting their text"
   ]
  },
  {
   "cell_type": "markdown",
   "metadata": {},
   "source": [
    "Under the material for Lectures 2-3 I have added a folder called FOMC_pdf. This folder contains the transcripts of all the meetings that took place during the [Greenspan](https://en.wikipedia.org/wiki/Alan_Greenspan) era (August 11, 1987 to January 31st, 2006). \n",
    "\n",
    "We will write a few lines of code to extract the text from those pdfs. "
   ]
  },
  {
   "cell_type": "markdown",
   "metadata": {},
   "source": [
    "We will start by importing a package (or using a more appropriate terminology: a module). You can read the first paragraph of this [link](https://www.datacamp.com/community/tutorials/modules-in-python) to get a sense of what a module is. We will review them in more detail later in the course. Broadly speaking, a module is a collection of \"functions\"."
   ]
  },
  {
   "cell_type": "markdown",
   "metadata": {},
   "source": [
    "The first module we will import today is the \"operating module\" system. This module is used to conduct operating system like tasks (such as opening a file, or listing the contents of a directory)."
   ]
  },
  {
   "cell_type": "code",
   "execution_count": 1,
   "metadata": {
    "ExecuteTime": {
     "end_time": "2019-01-29T19:20:35.756607Z",
     "start_time": "2019-01-29T19:20:35.753279Z"
    }
   },
   "outputs": [],
   "source": [
    "#load operating system module\n",
    "\n",
    "import os"
   ]
  },
  {
   "cell_type": "markdown",
   "metadata": {},
   "source": [
    "You can get a sense of the functions that belong to this module by typing"
   ]
  },
  {
   "cell_type": "code",
   "execution_count": 2,
   "metadata": {
    "ExecuteTime": {
     "end_time": "2019-01-29T19:20:37.765562Z",
     "start_time": "2019-01-29T19:20:37.759484Z"
    }
   },
   "outputs": [],
   "source": [
    "os.*?"
   ]
  },
  {
   "cell_type": "raw",
   "metadata": {},
   "source": [
    "or sometimes you can also use os.__all__"
   ]
  },
  {
   "cell_type": "markdown",
   "metadata": {},
   "source": [
    "You should not expect to learn all the functions of every modules. The typical way you will learn these is by trying to do some task, and checking for possible solutions on the web. \n",
    "\n",
    "For example, the code below extracts the names of all files in a particular directory. "
   ]
  },
  {
   "cell_type": "code",
   "execution_count": 3,
   "metadata": {
    "ExecuteTime": {
     "end_time": "2019-01-29T19:20:44.614693Z",
     "start_time": "2019-01-29T19:20:44.612357Z"
    }
   },
   "outputs": [],
   "source": [
    "#Define the base directory containing the FOMC statements\n",
    "\n",
    "base_directory = '../Data/FOMC_pdf'"
   ]
  },
  {
   "cell_type": "code",
   "execution_count": 4,
   "metadata": {
    "ExecuteTime": {
     "end_time": "2019-01-29T19:20:45.838772Z",
     "start_time": "2019-01-29T19:20:45.835106Z"
    }
   },
   "outputs": [],
   "source": [
    "#Return a list containing the name of the files in the directory\n",
    "\n",
    "raw_doc        = os.listdir(base_directory)"
   ]
  },
  {
   "cell_type": "code",
   "execution_count": 5,
   "metadata": {
    "ExecuteTime": {
     "end_time": "2019-01-29T19:20:47.215561Z",
     "start_time": "2019-01-29T19:20:47.212842Z"
    }
   },
   "outputs": [],
   "source": [
    "#Sort the list in ascending order\n",
    "\n",
    "filelist       = sorted(raw_doc)"
   ]
  },
  {
   "cell_type": "markdown",
   "metadata": {},
   "source": [
    "You can type now raw_doc or filelist to see what those names are"
   ]
  },
  {
   "cell_type": "code",
   "execution_count": 6,
   "metadata": {
    "ExecuteTime": {
     "end_time": "2019-01-29T19:20:51.143220Z",
     "start_time": "2019-01-29T19:20:51.130450Z"
    }
   },
   "outputs": [
    {
     "data": {
      "text/plain": [
       "['FOMC19870818meeting.pdf',\n",
       " 'FOMC19870922meeting.pdf',\n",
       " 'FOMC19871103meeting.pdf',\n",
       " 'FOMC19871216meeting.pdf',\n",
       " 'FOMC19880210meeting.pdf',\n",
       " 'FOMC19880329meeting.pdf',\n",
       " 'FOMC19880517meeting.pdf',\n",
       " 'FOMC19880630meeting.pdf',\n",
       " 'FOMC19880816meeting.pdf',\n",
       " 'FOMC19880920meeting.pdf',\n",
       " 'FOMC19881101meeting.pdf',\n",
       " 'FOMC19881214meeting.pdf',\n",
       " 'FOMC19890208meeting.pdf',\n",
       " 'FOMC19890328meeting.pdf',\n",
       " 'FOMC19890516meeting.pdf',\n",
       " 'FOMC19890706meeting.pdf',\n",
       " 'FOMC19890822meeting.pdf',\n",
       " 'FOMC19891003meeting.pdf',\n",
       " 'FOMC19891114meeting.pdf',\n",
       " 'FOMC19891219meeting.pdf',\n",
       " 'FOMC19900207meeting.pdf',\n",
       " 'FOMC19900327meeting.pdf',\n",
       " 'FOMC19900515meeting.pdf',\n",
       " 'FOMC19900703meeting.pdf',\n",
       " 'FOMC19900821meeting.pdf',\n",
       " 'FOMC19901002meeting.pdf',\n",
       " 'FOMC19901113meeting.pdf',\n",
       " 'FOMC19901218meeting.pdf',\n",
       " 'FOMC19910206meeting.pdf',\n",
       " 'FOMC19910326meeting.pdf',\n",
       " 'FOMC19910514meeting.pdf',\n",
       " 'FOMC19910703meeting.pdf',\n",
       " 'FOMC19910820meeting.pdf',\n",
       " 'FOMC19911001meeting.pdf',\n",
       " 'FOMC19911105meeting.pdf',\n",
       " 'FOMC19911217meeting.pdf',\n",
       " 'FOMC19920205meeting.pdf',\n",
       " 'FOMC19920331meeting.pdf',\n",
       " 'FOMC19920519meeting.pdf',\n",
       " 'FOMC19920701meeting.pdf',\n",
       " 'FOMC19920818meeting.pdf',\n",
       " 'FOMC19921006meeting.pdf',\n",
       " 'FOMC19921117meeting.pdf',\n",
       " 'FOMC19921222meeting.pdf',\n",
       " 'FOMC19930203meeting.pdf',\n",
       " 'FOMC19930323meeting.pdf',\n",
       " 'FOMC19930518meeting.pdf',\n",
       " 'FOMC19930707meeting.pdf',\n",
       " 'FOMC19930817meeting.pdf',\n",
       " 'FOMC19930921meeting.pdf',\n",
       " 'FOMC19931116meeting.pdf',\n",
       " 'FOMC19931221meeting.pdf',\n",
       " 'FOMC19940204meeting.pdf',\n",
       " 'FOMC19940322meeting.pdf',\n",
       " 'FOMC19940517meeting.pdf',\n",
       " 'FOMC19940706meeting.pdf',\n",
       " 'FOMC19940816meeting.pdf',\n",
       " 'FOMC19940927meeting.pdf',\n",
       " 'FOMC19941115meeting.pdf',\n",
       " 'FOMC19941220meeting.pdf',\n",
       " 'FOMC19950201meeting.pdf',\n",
       " 'FOMC19950328meeting.pdf',\n",
       " 'FOMC19950523meeting.pdf',\n",
       " 'FOMC19950706meeting.pdf',\n",
       " 'FOMC19950822meeting.pdf',\n",
       " 'FOMC19950926meeting.pdf',\n",
       " 'FOMC19951115meeting.pdf',\n",
       " 'FOMC19951219meeting.pdf',\n",
       " 'FOMC19960131meeting.pdf',\n",
       " 'FOMC19960326meeting.pdf',\n",
       " 'FOMC19960521meeting.pdf',\n",
       " 'FOMC19960703meeting.pdf',\n",
       " 'FOMC19960820meeting.pdf',\n",
       " 'FOMC19960924meeting.pdf',\n",
       " 'FOMC19961113meeting.pdf',\n",
       " 'FOMC19961217meeting.pdf',\n",
       " 'FOMC19970205meeting.pdf',\n",
       " 'FOMC19970325meeting.pdf',\n",
       " 'FOMC19970520meeting.pdf',\n",
       " 'FOMC19970702meeting.pdf',\n",
       " 'FOMC19970819meeting.pdf',\n",
       " 'FOMC19970930meeting.pdf',\n",
       " 'FOMC19971112meeting.pdf',\n",
       " 'FOMC19971216meeting.pdf',\n",
       " 'FOMC19980204meeting.pdf',\n",
       " 'FOMC19980331meeting.pdf',\n",
       " 'FOMC19980519meeting.pdf',\n",
       " 'FOMC19980701meeting.pdf',\n",
       " 'FOMC19980818meeting.pdf',\n",
       " 'FOMC19980929meeting.pdf',\n",
       " 'FOMC19981117meeting.pdf',\n",
       " 'FOMC19981222meeting.pdf',\n",
       " 'FOMC19990203meeting.pdf',\n",
       " 'FOMC19990330meeting.pdf',\n",
       " 'FOMC19990518meeting.pdf',\n",
       " 'FOMC19990630meeting.pdf',\n",
       " 'FOMC19990824meeting.pdf',\n",
       " 'FOMC19991005meeting.pdf',\n",
       " 'FOMC19991116meeting.pdf',\n",
       " 'FOMC19991221meeting.pdf',\n",
       " 'FOMC20000202meeting.pdf',\n",
       " 'FOMC20000321meeting.pdf',\n",
       " 'FOMC20000516meeting.pdf',\n",
       " 'FOMC20000628meeting.pdf',\n",
       " 'FOMC20000822meeting.pdf',\n",
       " 'FOMC20001003meeting.pdf',\n",
       " 'FOMC20001115meeting.pdf',\n",
       " 'FOMC20001219meeting.pdf',\n",
       " 'FOMC20010131meeting.pdf',\n",
       " 'FOMC20010320meeting.pdf',\n",
       " 'FOMC20010515meeting.pdf',\n",
       " 'FOMC20010627meeting.pdf',\n",
       " 'FOMC20010821meeting.pdf',\n",
       " 'FOMC20011002meeting.pdf',\n",
       " 'FOMC20011106meeting.pdf',\n",
       " 'FOMC20011211meeting.pdf',\n",
       " 'FOMC20020130meeting.pdf',\n",
       " 'FOMC20020319meeting.pdf',\n",
       " 'FOMC20020507meeting.pdf',\n",
       " 'FOMC20020626meeting.pdf',\n",
       " 'FOMC20020813meeting.pdf',\n",
       " 'FOMC20020924meeting.pdf',\n",
       " 'FOMC20021106meeting.pdf',\n",
       " 'FOMC20021210meeting.pdf',\n",
       " 'FOMC20030129meeting.pdf',\n",
       " 'FOMC20030318meeting.pdf',\n",
       " 'FOMC20030506meeting.pdf',\n",
       " 'FOMC20030625meeting.pdf',\n",
       " 'FOMC20030812meeting.pdf',\n",
       " 'FOMC20030915meeting.pdf',\n",
       " 'FOMC20030916meeting.pdf',\n",
       " 'FOMC20031028meeting.pdf',\n",
       " 'FOMC20031209meeting.pdf',\n",
       " 'FOMC20040128meeting.pdf',\n",
       " 'FOMC20040316meeting.pdf',\n",
       " 'FOMC20040504meeting.pdf',\n",
       " 'FOMC20040630meeting.pdf',\n",
       " 'FOMC20040810meeting.pdf',\n",
       " 'FOMC20040921meeting.pdf',\n",
       " 'FOMC20041110meeting.pdf',\n",
       " 'FOMC20041214meeting.pdf',\n",
       " 'FOMC20050202meeting.pdf',\n",
       " 'FOMC20050322meeting.pdf',\n",
       " 'FOMC20050503meeting.pdf',\n",
       " 'FOMC20050630meeting.pdf',\n",
       " 'FOMC20050809meeting.pdf',\n",
       " 'FOMC20050920meeting.pdf',\n",
       " 'FOMC20051101meeting.pdf',\n",
       " 'FOMC20051213meeting.pdf',\n",
       " 'FOMC20060131meeting.pdf']"
      ]
     },
     "execution_count": 6,
     "metadata": {},
     "output_type": "execute_result"
    }
   ],
   "source": [
    "filelist"
   ]
  },
  {
   "cell_type": "markdown",
   "metadata": {},
   "source": [
    "Suppose now that I want to convert the text from the file 'FOMC19980929meeting.pdf' into a file containing strings. We will do so using the PyPDF2 module. \n",
    "\n",
    "Warning: Depending on your Python configuration, you might not be able to read this directly. I downloaded Python using the Anaconda distribution and I needed to type directly on the terminal\n",
    "\n",
    "conda -forge pypdf2\n",
    "\n",
    "After doing this, I was able to upload the PyPDF2 module"
   ]
  },
  {
   "cell_type": "code",
   "execution_count": 7,
   "metadata": {
    "ExecuteTime": {
     "end_time": "2019-01-29T19:20:57.732635Z",
     "start_time": "2019-01-29T19:20:57.719213Z"
    }
   },
   "outputs": [],
   "source": [
    "#Import module for reading pdfs\n",
    "\n",
    "import PyPDF2"
   ]
  },
  {
   "cell_type": "markdown",
   "metadata": {},
   "source": [
    "Let me give you an example of how the conversion from pdfs to string work. There are different ways of doing this (and in fact, there are some other modules out there to do it)."
   ]
  },
  {
   "cell_type": "markdown",
   "metadata": {},
   "source": [
    "The first thing is to open the file of interest and storing into some python object. We can do this by running"
   ]
  },
  {
   "cell_type": "code",
   "execution_count": 8,
   "metadata": {
    "ExecuteTime": {
     "end_time": "2019-01-29T19:21:01.370957Z",
     "start_time": "2019-01-29T19:21:01.367169Z"
    }
   },
   "outputs": [],
   "source": [
    "pdfFileObj_example = open(base_directory + '/' + 'FOMC19980929meeting.pdf', 'rb')"
   ]
  },
  {
   "cell_type": "markdown",
   "metadata": {},
   "source": [
    "The line above simply creates an object that PyPDF2 can then read:"
   ]
  },
  {
   "cell_type": "code",
   "execution_count": 9,
   "metadata": {
    "ExecuteTime": {
     "end_time": "2019-01-29T19:21:04.344535Z",
     "start_time": "2019-01-29T19:21:04.326869Z"
    }
   },
   "outputs": [
    {
     "name": "stderr",
     "output_type": "stream",
     "text": [
      "PdfReadWarning: Xref table not zero-indexed. ID numbers for objects will be corrected. [pdf.py:1736]\n"
     ]
    }
   ],
   "source": [
    "pdfread_example    = PyPDF2.PdfFileReader(pdfFileObj_example) "
   ]
  },
  {
   "cell_type": "markdown",
   "metadata": {},
   "source": [
    "You can type PyPDF2.PdfFileReader? to see what PyPDF2.PdfFileReader does. For the moment let's think that the function breaks the pdf into number of pages and separately stores each of the pages. "
   ]
  },
  {
   "cell_type": "markdown",
   "metadata": {},
   "source": [
    "We can easily retrieve the number of pages in 'FOMC19980929meeting.pdf'"
   ]
  },
  {
   "cell_type": "code",
   "execution_count": 10,
   "metadata": {
    "ExecuteTime": {
     "end_time": "2019-01-29T19:21:09.367994Z",
     "start_time": "2019-01-29T19:21:09.350926Z"
    }
   },
   "outputs": [
    {
     "data": {
      "text/plain": [
       "124"
      ]
     },
     "execution_count": 10,
     "metadata": {},
     "output_type": "execute_result"
    }
   ],
   "source": [
    "pdfread_example.numPages"
   ]
  },
  {
   "cell_type": "markdown",
   "metadata": {},
   "source": [
    "And I can also get a particular page of the document, say page 1. "
   ]
  },
  {
   "cell_type": "code",
   "execution_count": 11,
   "metadata": {
    "ExecuteTime": {
     "end_time": "2019-01-29T19:21:13.694892Z",
     "start_time": "2019-01-29T19:21:13.575094Z"
    }
   },
   "outputs": [
    {
     "data": {
      "text/plain": [
       "'Meeting of the Federal Open Market CommitteeSeptember 29, 1998A meeting of the Federal Open Market Committee was held in the offices of the Boardof Governors of the Federal Reserve System in Washington, D.C., on Tuesday, September 29,1998, at 9:00 a.m.PRESENT:Mr. Greenspan, ChairmanMr. McDonough, Vice ChairmanMr. HoenigMr. FergusonMr. GramlichMr. JordanMr. KelleyMr. MeyerMs. MinehanMr. PooleMs. RivlinMessrs. Boehne, McTeer, Moskow, and Stern, Alternate Members of theFederal Open Market CommitteeMessrs. Broaddus, Guynn, and Parry, Presidents of the Federal ReserveBanks of Richmond, Atlanta, and San Francisco respectivelyMr. Kohn, Secretary and EconomistMr. Bernard, Deputy SecretaryMs. Fox, Assistant SecretaryMr. Gillum, Assistant SecretaryMr. Mattingly, General CounselMr. Baxter, Deputy General CounselMr. Truman, EconomistMessrs. Cecchetti, Dewald, Hakkio, Lindsey, Simpson, Sniderman, andStockton, Associate EconomistsMr. Fisher, Manager, System Open Market Account'"
      ]
     },
     "execution_count": 11,
     "metadata": {},
     "output_type": "execute_result"
    }
   ],
   "source": [
    "pdfread_example.getPage(0).extractText()"
   ]
  },
  {
   "cell_type": "markdown",
   "metadata": {},
   "source": [
    "Finally, we would like to put all these pages together in a list. Doing so for two pages is quite simple. We start by creating a list"
   ]
  },
  {
   "cell_type": "code",
   "execution_count": 12,
   "metadata": {
    "ExecuteTime": {
     "end_time": "2019-01-29T19:21:17.302921Z",
     "start_time": "2019-01-29T19:21:17.299992Z"
    }
   },
   "outputs": [],
   "source": [
    "page_list_example = []"
   ]
  },
  {
   "cell_type": "markdown",
   "metadata": {},
   "source": [
    "We can \"append\" the first page to this empty list by doing"
   ]
  },
  {
   "cell_type": "code",
   "execution_count": 13,
   "metadata": {
    "ExecuteTime": {
     "end_time": "2019-01-29T19:21:18.892357Z",
     "start_time": "2019-01-29T19:21:18.870308Z"
    }
   },
   "outputs": [],
   "source": [
    "page_list_example.append(''.join(pdfread_example.getPage(0).extractText().split('\\n')))"
   ]
  },
  {
   "cell_type": "code",
   "execution_count": 14,
   "metadata": {
    "ExecuteTime": {
     "end_time": "2019-01-29T19:21:20.243347Z",
     "start_time": "2019-01-29T19:21:20.238618Z"
    }
   },
   "outputs": [
    {
     "data": {
      "text/plain": [
       "['Meeting of the Federal Open Market CommitteeSeptember 29, 1998A meeting of the Federal Open Market Committee was held in the offices of the Boardof Governors of the Federal Reserve System in Washington, D.C., on Tuesday, September 29,1998, at 9:00 a.m.PRESENT:Mr. Greenspan, ChairmanMr. McDonough, Vice ChairmanMr. HoenigMr. FergusonMr. GramlichMr. JordanMr. KelleyMr. MeyerMs. MinehanMr. PooleMs. RivlinMessrs. Boehne, McTeer, Moskow, and Stern, Alternate Members of theFederal Open Market CommitteeMessrs. Broaddus, Guynn, and Parry, Presidents of the Federal ReserveBanks of Richmond, Atlanta, and San Francisco respectivelyMr. Kohn, Secretary and EconomistMr. Bernard, Deputy SecretaryMs. Fox, Assistant SecretaryMr. Gillum, Assistant SecretaryMr. Mattingly, General CounselMr. Baxter, Deputy General CounselMr. Truman, EconomistMessrs. Cecchetti, Dewald, Hakkio, Lindsey, Simpson, Sniderman, andStockton, Associate EconomistsMr. Fisher, Manager, System Open Market Account']"
      ]
     },
     "execution_count": 14,
     "metadata": {},
     "output_type": "execute_result"
    }
   ],
   "source": [
    "page_list_example"
   ]
  },
  {
   "cell_type": "markdown",
   "metadata": {},
   "source": [
    "And then we can \"append\" page 2"
   ]
  },
  {
   "cell_type": "code",
   "execution_count": 15,
   "metadata": {
    "ExecuteTime": {
     "end_time": "2019-01-29T19:21:23.878771Z",
     "start_time": "2019-01-29T19:21:23.846338Z"
    }
   },
   "outputs": [],
   "source": [
    "page_list_example.append(''.join(pdfread_example.getPage(1).extractText().split('\\n')))"
   ]
  },
  {
   "cell_type": "code",
   "execution_count": 16,
   "metadata": {
    "ExecuteTime": {
     "end_time": "2019-01-29T19:21:25.603180Z",
     "start_time": "2019-01-29T19:21:25.598336Z"
    }
   },
   "outputs": [
    {
     "data": {
      "text/plain": [
       "['Meeting of the Federal Open Market CommitteeSeptember 29, 1998A meeting of the Federal Open Market Committee was held in the offices of the Boardof Governors of the Federal Reserve System in Washington, D.C., on Tuesday, September 29,1998, at 9:00 a.m.PRESENT:Mr. Greenspan, ChairmanMr. McDonough, Vice ChairmanMr. HoenigMr. FergusonMr. GramlichMr. JordanMr. KelleyMr. MeyerMs. MinehanMr. PooleMs. RivlinMessrs. Boehne, McTeer, Moskow, and Stern, Alternate Members of theFederal Open Market CommitteeMessrs. Broaddus, Guynn, and Parry, Presidents of the Federal ReserveBanks of Richmond, Atlanta, and San Francisco respectivelyMr. Kohn, Secretary and EconomistMr. Bernard, Deputy SecretaryMs. Fox, Assistant SecretaryMr. Gillum, Assistant SecretaryMr. Mattingly, General CounselMr. Baxter, Deputy General CounselMr. Truman, EconomistMessrs. Cecchetti, Dewald, Hakkio, Lindsey, Simpson, Sniderman, andStockton, Associate EconomistsMr. Fisher, Manager, System Open Market Account',\n",
       " \"9/29/98Mr. Winn, Assistant to the Board, Office of Board Members, Board ofGovernors 1/Mr. Ettin, Deputy Director, Division of Research and Statistics, Board ofGovernorsMessrs. Madigan and Slifman, Associate Directors, Divisions ofMonetary Affairs and Research and Statistics respectively, Boardof GovernorsMessrs. Alexander, Hooper, and Ms. Johnson, Associate Directors,Division of International Finance, Board of GovernorsMr. Reinhart, Deputy Associate Director, Division of Monetary Affairs,Board of GovernorsMr. Struckmeyer, Assistant Director, Division of Research and Statistics,Board of GovernorsMs. Low, Open Market Secretariat Assistant, Division of MonetaryAffairs, Board of GovernorsMessrs. Spillenkothen and Parkinson, 2/ Director, Division ofSupervision and Regulation, and Associate Director, Division ofResearch and Statistics respectively, Board of GovernorsMr. Connolly, First Vice President, Federal Reserve Bank of BostonMessrs. Eisenbeis, Goodfriend, Hunter, Kos, Lang, and Rolnick, SeniorVice Presidents, Federal Reserve Banks of Atlanta, Richmond,Chicago, New York, Philadelphia, and Minneapolis respectivelyMessrs. Judd and Rosengren, Vice Presidents, Federal Reserve Banks ofSan Francisco and Boston respectivelyMs. Yucel, Research Officer, Federal Reserve Bank of Dallas1/ Attended portion of the meeting relating to the Committee's disclosure policies.2/ Attended portion of the meeting relating to developments stemming from the financialdifficulties of a large hedge fund.\"]"
      ]
     },
     "execution_count": 16,
     "metadata": {},
     "output_type": "execute_result"
    }
   ],
   "source": [
    "page_list_example"
   ]
  },
  {
   "cell_type": "markdown",
   "metadata": {},
   "source": [
    "The list has now two entries"
   ]
  },
  {
   "cell_type": "code",
   "execution_count": 17,
   "metadata": {
    "ExecuteTime": {
     "end_time": "2019-01-29T19:21:31.203615Z",
     "start_time": "2019-01-29T19:21:31.198508Z"
    }
   },
   "outputs": [
    {
     "data": {
      "text/plain": [
       "2"
      ]
     },
     "execution_count": 17,
     "metadata": {},
     "output_type": "execute_result"
    }
   ],
   "source": [
    "len(page_list_example)"
   ]
  },
  {
   "cell_type": "markdown",
   "metadata": {},
   "source": [
    "but we would like to consolidate them into a single page and assign them to a list called document_example "
   ]
  },
  {
   "cell_type": "code",
   "execution_count": 18,
   "metadata": {
    "ExecuteTime": {
     "end_time": "2019-01-29T19:21:35.177992Z",
     "start_time": "2019-01-29T19:21:35.174706Z"
    }
   },
   "outputs": [],
   "source": [
    "page_concat_example = ''.join(page_list_example)"
   ]
  },
  {
   "cell_type": "code",
   "execution_count": 19,
   "metadata": {
    "ExecuteTime": {
     "end_time": "2019-01-29T19:21:36.625386Z",
     "start_time": "2019-01-29T19:21:36.621997Z"
    }
   },
   "outputs": [],
   "source": [
    "document_example    = []"
   ]
  },
  {
   "cell_type": "code",
   "execution_count": 20,
   "metadata": {
    "ExecuteTime": {
     "end_time": "2019-01-29T19:21:37.673087Z",
     "start_time": "2019-01-29T19:21:37.669630Z"
    }
   },
   "outputs": [],
   "source": [
    "document_example.append(page_concat_example)"
   ]
  },
  {
   "cell_type": "code",
   "execution_count": 21,
   "metadata": {
    "ExecuteTime": {
     "end_time": "2019-01-29T19:21:41.050011Z",
     "start_time": "2019-01-29T19:21:41.045426Z"
    }
   },
   "outputs": [
    {
     "data": {
      "text/plain": [
       "1"
      ]
     },
     "execution_count": 21,
     "metadata": {},
     "output_type": "execute_result"
    }
   ],
   "source": [
    "len(document_example)"
   ]
  },
  {
   "cell_type": "markdown",
   "metadata": {},
   "source": [
    "Now we can do this in a loop. For each pdf, we will write a loop to put together all the pages. And then will put together all the meetings in a page. "
   ]
  },
  {
   "cell_type": "code",
   "execution_count": 22,
   "metadata": {
    "ExecuteTime": {
     "end_time": "2019-01-29T19:29:10.884122Z",
     "start_time": "2019-01-29T19:21:46.469062Z"
    }
   },
   "outputs": [],
   "source": [
    "#Create loop to extract the text from the pdfs \n",
    "#(we could do this using the tika package, but it does not work on Chrome!)\n",
    "\n",
    "document       =  []           #Initialize doc\n",
    "\n",
    "for filename in filelist:      #Create loop for each of the names on the file\n",
    "    \n",
    "    pdfFileObj = open(base_directory + '/' + filename, 'rb')    \n",
    "                               #Open file\n",
    "     \n",
    "    pdfread    = PyPDF2.PdfFileReader(pdfFileObj) \n",
    "                               #Get the content of the pdf (text,pages, etc)\n",
    "    \n",
    "    page_list  = []\n",
    "    \n",
    "    for page in range(pdfread.numPages):\n",
    "        \n",
    "        pageObj= pdfread.getPage(page)\n",
    "        \n",
    "        page_list.append(''.join(pageObj.extractText().split('\\n')))\n",
    "        \n",
    "    page_concat= ''.join(page_list)\n",
    "    \n",
    "    document.append(page_concat)\n"
   ]
  },
  {
   "cell_type": "code",
   "execution_count": 23,
   "metadata": {
    "ExecuteTime": {
     "end_time": "2019-01-29T19:46:55.581904Z",
     "start_time": "2019-01-29T19:46:55.568230Z"
    }
   },
   "outputs": [
    {
     "data": {
      "text/plain": [
       "150"
      ]
     },
     "execution_count": 23,
     "metadata": {},
     "output_type": "execute_result"
    }
   ],
   "source": [
    "len(document)"
   ]
  },
  {
   "cell_type": "markdown",
   "metadata": {},
   "source": [
    "You can check that document is a list and each element of the list contains one of the meetings in the Greenspan period."
   ]
  },
  {
   "cell_type": "code",
   "execution_count": 24,
   "metadata": {
    "ExecuteTime": {
     "end_time": "2019-01-29T19:47:01.592035Z",
     "start_time": "2019-01-29T19:47:00.939363Z"
    }
   },
   "outputs": [],
   "source": [
    "import pandas as pd"
   ]
  },
  {
   "cell_type": "code",
   "execution_count": 25,
   "metadata": {
    "ExecuteTime": {
     "end_time": "2019-01-29T19:47:03.316464Z",
     "start_time": "2019-01-29T19:47:03.313051Z"
    }
   },
   "outputs": [],
   "source": [
    "#load re to split the content of the pdfs by the occurrence of a pattern\n",
    "\n",
    "import re"
   ]
  },
  {
   "cell_type": "code",
   "execution_count": 26,
   "metadata": {
    "ExecuteTime": {
     "end_time": "2019-01-29T19:47:09.749456Z",
     "start_time": "2019-01-29T19:47:05.048935Z"
    }
   },
   "outputs": [],
   "source": [
    "example = pd.concat([pd.DataFrame(data=[re.split('MR. |MS. |CHAIRMAN |VICE CHAIRMAN ', document[i])]) for i in range(len(document))],\n",
    "...           ignore_index=True)"
   ]
  },
  {
   "cell_type": "code",
   "execution_count": 27,
   "metadata": {
    "ExecuteTime": {
     "end_time": "2019-01-29T19:47:10.108512Z",
     "start_time": "2019-01-29T19:47:10.104074Z"
    }
   },
   "outputs": [
    {
     "data": {
      "text/plain": [
       "RangeIndex(start=0, stop=150, step=1)"
      ]
     },
     "execution_count": 27,
     "metadata": {},
     "output_type": "execute_result"
    }
   ],
   "source": [
    "example.index"
   ]
  },
  {
   "cell_type": "code",
   "execution_count": 28,
   "metadata": {
    "ExecuteTime": {
     "end_time": "2019-01-29T19:47:10.408759Z",
     "start_time": "2019-01-29T19:47:10.401186Z"
    }
   },
   "outputs": [],
   "source": [
    "example.set_index(pd.Series(data=filelist).apply(lambda x: x[4:12]),inplace=True)"
   ]
  },
  {
   "cell_type": "code",
   "execution_count": 29,
   "metadata": {
    "ExecuteTime": {
     "end_time": "2019-01-29T19:47:10.774597Z",
     "start_time": "2019-01-29T19:47:10.746826Z"
    }
   },
   "outputs": [
    {
     "data": {
      "text/plain": [
       "'GREENSPAN. We are getting under way a bit early, but I am sure wewill use the time productively. Would somebody like to move approval of the minutes? I wantto call your attention to the addition of a reference in the minutes to our recent telephoneconference. I trust all of you have looked at it and that there is no objection to the way it isworded.'"
      ]
     },
     "execution_count": 29,
     "metadata": {},
     "output_type": "execute_result"
    }
   ],
   "source": [
    "example.loc['19980929'][1]"
   ]
  },
  {
   "cell_type": "code",
   "execution_count": 30,
   "metadata": {
    "ExecuteTime": {
     "end_time": "2019-01-29T19:47:11.145355Z",
     "start_time": "2019-01-29T19:47:11.140300Z"
    },
    "scrolled": true
   },
   "outputs": [
    {
     "data": {
      "text/plain": [
       "Index(['19870818', '19870922', '19871103', '19871216', '19880210', '19880329',\n",
       "       '19880517', '19880630', '19880816', '19880920',\n",
       "       ...\n",
       "       '20041214', '20050202', '20050322', '20050503', '20050630', '20050809',\n",
       "       '20050920', '20051101', '20051213', '20060131'],\n",
       "      dtype='object', length=150)"
      ]
     },
     "execution_count": 30,
     "metadata": {},
     "output_type": "execute_result"
    }
   ],
   "source": [
    "example.index"
   ]
  },
  {
   "cell_type": "code",
   "execution_count": 31,
   "metadata": {
    "ExecuteTime": {
     "end_time": "2019-01-29T19:47:13.672072Z",
     "start_time": "2019-01-29T19:47:13.664741Z"
    }
   },
   "outputs": [
    {
     "data": {
      "text/plain": [
       "0       Meeting of the Federal Open Market CommitteeSe...\n",
       "1       GREENSPAN. We are getting under way a bit earl...\n",
       "2                               MCDONOUGH. Move approval.\n",
       "3       GREENSPAN. Without objection.The second item o...\n",
       "4       HOENIG. Mr. Chairman, after reading the memo a...\n",
       "5       GREENSPAN. I gather by implication that we hav...\n",
       "6       HOENIG. We need an interpreter to figure out w...\n",
       "7                             GREENSPAN. President Guynn.\n",
       "8       GUYNN. Mr. Chairman, I share Tom Hoenig's view...\n",
       "9       GREENSPAN. Tom, did you also say you favored r...\n",
       "10      HOENIG. Yes, I would be in favor of releasing ...\n",
       "11      GUYNN. I think it is important as we continue ...\n",
       "12      GREENSPAN. As a central bank, we should at lea...\n",
       "13         GUYNN. I accept that! Thank you, Mr. Chairman.\n",
       "14                          GREENSPAN. President Minehan.\n",
       "15      MINEHAN. I am very much in agreement with Pres...\n",
       "16                            GREENSPAN. President Parry.\n",
       "17      PARRY. I basically support what the three Pres...\n",
       "18                           GREENSPAN. President McTeer.\n",
       "19      MCTEER. Just to play devil's advocate, I would...\n",
       "20                            GREENSPAN. Governor Rivlin.\n",
       "21      RIVLIN. I agree with Option 1 as amended by To...\n",
       "22                             GREENSPAN. Governor Meyer.\n",
       "23      MEYER. I continue to favor immediate announcem...\n",
       "24                         GREENSPAN. President Broaddus.\n",
       "25      BROADDUS. Mr. Chairman, I continue to believe ...\n",
       "26                           GREENSPAN. President Boehne.\n",
       "27      BOEHNE. I agree with the simpler language. I, ...\n",
       "28                            GREENSPAN. President Stern.\n",
       "29      STERN. Thank you, Mr. Chairman. I certainly fa...\n",
       "                              ...                        \n",
       "974                                                   NaN\n",
       "975                                                   NaN\n",
       "976                                                   NaN\n",
       "977                                                   NaN\n",
       "978                                                   NaN\n",
       "979                                                   NaN\n",
       "980                                                   NaN\n",
       "981                                                   NaN\n",
       "982                                                   NaN\n",
       "983                                                   NaN\n",
       "984                                                   NaN\n",
       "985                                                   NaN\n",
       "986                                                   NaN\n",
       "987                                                   NaN\n",
       "988                                                   NaN\n",
       "989                                                   NaN\n",
       "990                                                   NaN\n",
       "991                                                   NaN\n",
       "992                                                   NaN\n",
       "993                                                   NaN\n",
       "994                                                   NaN\n",
       "995                                                   NaN\n",
       "996                                                   NaN\n",
       "997                                                   NaN\n",
       "998                                                   NaN\n",
       "999                                                   NaN\n",
       "1000                                                  NaN\n",
       "1001                                                  NaN\n",
       "1002                                                  NaN\n",
       "1003                                                  NaN\n",
       "Name: 19980929, Length: 1004, dtype: object"
      ]
     },
     "execution_count": 31,
     "metadata": {},
     "output_type": "execute_result"
    }
   ],
   "source": [
    "example.loc['19980929']"
   ]
  },
  {
   "cell_type": "code",
   "execution_count": 32,
   "metadata": {
    "ExecuteTime": {
     "end_time": "2019-01-29T19:47:15.936698Z",
     "start_time": "2019-01-29T19:47:15.096335Z"
    }
   },
   "outputs": [
    {
     "data": {
      "text/plain": [
       "1      GREENSPAN. We are getting under way a bit earl...\n",
       "3      GREENSPAN. Without objection.The second item o...\n",
       "5      GREENSPAN. I gather by implication that we hav...\n",
       "7                            GREENSPAN. President Guynn.\n",
       "9      GREENSPAN. Tom, did you also say you favored r...\n",
       "12     GREENSPAN. As a central bank, we should at lea...\n",
       "14                         GREENSPAN. President Minehan.\n",
       "16                           GREENSPAN. President Parry.\n",
       "18                          GREENSPAN. President McTeer.\n",
       "20                           GREENSPAN. Governor Rivlin.\n",
       "22                            GREENSPAN. Governor Meyer.\n",
       "24                        GREENSPAN. President Broaddus.\n",
       "26                          GREENSPAN. President Boehne.\n",
       "28                           GREENSPAN. President Stern.\n",
       "30                         GREENSPAN. Governor Ferguson.\n",
       "32                           GREENSPAN. President Poole.\n",
       "34                         GREENSPAN. Governor Gramlich.\n",
       "36                                GREENSPAN. Vice Chair.\n",
       "38                          GREENSPAN. President Moskow.\n",
       "40                          GREENSPAN. President Jordan.\n",
       "42                           GREENSPAN. Governor Kelley.\n",
       "44     GREENSPAN. One of the things that strikes me a...\n",
       "46     GREENSPAN. There does seem to be a fairly broa...\n",
       "48     GREENSPAN. This is the U.K. bank rate versus s...\n",
       "50                             GREENSPAN. What maturity?\n",
       "52                    GREENSPAN. But in sterling?9/29/98\n",
       "54                                  GREENSPAN. Some did!\n",
       "56     GREENSPAN. Peter, I think we are all aware tha...\n",
       "58     GREENSPAN. Also, the asset values are essentia...\n",
       "60     GREENSPAN. Financial intermediaries can create...\n",
       "                             ...                        \n",
       "239    GREENSPAN. What type of collateral would ordin...\n",
       "241                GREENSPAN. Involving U.S. Treasuries?\n",
       "243    GREENSPAN. There are not a lot of triple Bs ou...\n",
       "249    GREENSPAN. Let me go back. Can you explain to ...\n",
       "251    GREENSPAN. But, are we looking at losses in th...\n",
       "253    GREENSPAN. I am talking about my position as a...\n",
       "257    GREENSPAN. That is a 100 percent collateralize...\n",
       "259    GREENSPAN. Now, in order for me as a bank to l...\n",
       "261    GREENSPAN. So, the collateral lost value and L...\n",
       "264          GREENSPAN. Let's leave the derivatives out.\n",
       "267    GREENSPAN. There are two ways of coming at thi...\n",
       "269    GREENSPAN. That is a different issue. As far a...\n",
       "272    GREENSPAN. What I think we are going to need f...\n",
       "274    GREENSPAN. If we indicate what we are doing to...\n",
       "276    GREENSPAN. All I care about is that we produce...\n",
       "280    GREENSPAN. Have we developed a series of quest...\n",
       "282    GREENSPAN. It has to be a full report on what ...\n",
       "285    GREENSPAN. Did they participate through an Ame...\n",
       "291    GREENSPAN. I would like to ask one quick factu...\n",
       "293    GREENSPAN. So, it is in compliance with the Ba...\n",
       "295                     GREENSPAN. Ah! That explains it!\n",
       "297                        GREENSPAN. Governor Gramlich.\n",
       "318    GREENSPAN. What technically happens in that ki...\n",
       "320                      GREENSPAN. Yes, exactly.9/29/98\n",
       "322    GREENSPAN. That is the whole point. These are ...\n",
       "324          GREENSPAN. That was very wise. Al Broaddus.\n",
       "326    GREENSPAN. It is not something a committee can...\n",
       "328    GREENSPAN. That is Larry Meyer's committee, I ...\n",
       "334    GREENSPAN. Unless you get up and run, you will...\n",
       "335    GREENSPAN. The meeting is adjourned. Thank you...\n",
       "Name: 19980929, Length: 127, dtype: object"
      ]
     },
     "execution_count": 32,
     "metadata": {},
     "output_type": "execute_result"
    }
   ],
   "source": [
    "example.loc['19980929'][example.loc['19980929'].str.contains(r'(?=.*GREENSPAN)', na=False,regex=True)]"
   ]
  },
  {
   "cell_type": "code",
   "execution_count": 33,
   "metadata": {
    "ExecuteTime": {
     "end_time": "2019-01-29T19:48:35.687818Z",
     "start_time": "2019-01-29T19:48:34.709312Z"
    }
   },
   "outputs": [
    {
     "data": {
      "text/plain": [
       "93    GREENSPAN. There is an implicit forecast in th...\n",
       "Name: 19980929, dtype: object"
      ]
     },
     "execution_count": 33,
     "metadata": {},
     "output_type": "execute_result"
    }
   ],
   "source": [
    "example.loc['19980929'][example.loc['19980929'].str.contains(r'(?=.*GREENSPAN)(?=.*inflation)', na=False,regex=True)]"
   ]
  },
  {
   "cell_type": "code",
   "execution_count": 34,
   "metadata": {
    "ExecuteTime": {
     "end_time": "2019-01-29T19:48:36.555347Z",
     "start_time": "2019-01-29T19:48:36.550599Z"
    }
   },
   "outputs": [],
   "source": [
    "dates_meetings = pd.Series(data=filelist).apply(lambda x: x[4:12])"
   ]
  },
  {
   "cell_type": "code",
   "execution_count": 35,
   "metadata": {
    "ExecuteTime": {
     "end_time": "2019-01-29T19:48:37.421335Z",
     "start_time": "2019-01-29T19:48:37.406537Z"
    }
   },
   "outputs": [],
   "source": [
    "count_greenspan = pd.DataFrame(index=dates_meetings,columns=range(1))"
   ]
  },
  {
   "cell_type": "code",
   "execution_count": 36,
   "metadata": {
    "ExecuteTime": {
     "end_time": "2019-01-29T19:50:24.888311Z",
     "start_time": "2019-01-29T19:48:38.581812Z"
    }
   },
   "outputs": [],
   "source": [
    "for idates in dates_meetings.tolist():\n",
    "    aux = example.loc[idates][example.loc[idates].str.contains(r'(?=.*GREENSPAN)(?=.*inflation)', na=False,regex=True)]\n",
    "    count_greenspan.loc[idates]=len(aux)\n",
    "    "
   ]
  },
  {
   "cell_type": "code",
   "execution_count": 37,
   "metadata": {
    "ExecuteTime": {
     "end_time": "2019-01-29T19:50:25.643744Z",
     "start_time": "2019-01-29T19:50:25.216330Z"
    }
   },
   "outputs": [],
   "source": [
    "import matplotlib.pyplot as plt"
   ]
  },
  {
   "cell_type": "code",
   "execution_count": 38,
   "metadata": {
    "ExecuteTime": {
     "end_time": "2019-01-29T19:50:29.766395Z",
     "start_time": "2019-01-29T19:50:29.759709Z"
    }
   },
   "outputs": [],
   "source": [
    "count_greenspan.set_index(pd.to_datetime(count_greenspan.index),inplace=True)"
   ]
  },
  {
   "cell_type": "code",
   "execution_count": 39,
   "metadata": {
    "ExecuteTime": {
     "end_time": "2019-01-29T19:50:32.071193Z",
     "start_time": "2019-01-29T19:50:31.726696Z"
    }
   },
   "outputs": [
    {
     "data": {
      "text/plain": [
       "<matplotlib.legend.Legend at 0x11bc82f28>"
      ]
     },
     "execution_count": 39,
     "metadata": {},
     "output_type": "execute_result"
    },
    {
     "data": {
      "image/png": "[encoded data removed]",
      "text/plain": [
       "<Figure size 432x288 with 1 Axes>"
      ]
     },
     "metadata": {
      "needs_background": "light"
     },
     "output_type": "display_data"
    }
   ],
   "source": [
    "count_greenspan.plot()\n",
    "plt.xlabel('Date')\n",
    "plt.legend(['Use of the word inflation by Greenspan'])"
   ]
  },
  {
   "cell_type": "code",
   "execution_count": 40,
   "metadata": {
    "ExecuteTime": {
     "end_time": "2019-01-29T19:52:30.988877Z",
     "start_time": "2019-01-29T19:52:30.654031Z"
    }
   },
   "outputs": [],
   "source": [
    "data_fedtar = pd.read_excel (r'../Data/DFEDTAR.xls')"
   ]
  },
  {
   "cell_type": "code",
   "execution_count": 41,
   "metadata": {
    "ExecuteTime": {
     "end_time": "2019-01-29T19:52:32.370944Z",
     "start_time": "2019-01-29T19:52:32.356945Z"
    }
   },
   "outputs": [],
   "source": [
    "data_fedtar_meetings = data_fedtar[data_fedtar.observation_date.isin(dates_meetings.tolist())]"
   ]
  },
  {
   "cell_type": "code",
   "execution_count": 42,
   "metadata": {
    "ExecuteTime": {
     "end_time": "2019-01-29T19:52:41.601139Z",
     "start_time": "2019-01-29T19:52:41.588517Z"
    }
   },
   "outputs": [
    {
     "data": {
      "text/html": [
       "<div>\n",
       "<style scoped>\n",
       "    .dataframe tbody tr th:only-of-type {\n",
       "        vertical-align: middle;\n",
       "    }\n",
       "\n",
       "    .dataframe tbody tr th {\n",
       "        vertical-align: top;\n",
       "    }\n",
       "\n",
       "    .dataframe thead th {\n",
       "        text-align: right;\n",
       "    }\n",
       "</style>\n",
       "<table border=\"1\" class=\"dataframe\">\n",
       "  <thead>\n",
       "    <tr style=\"text-align: right;\">\n",
       "      <th></th>\n",
       "      <th>observation_date</th>\n",
       "      <th>DFEDTAR</th>\n",
       "    </tr>\n",
       "  </thead>\n",
       "  <tbody>\n",
       "    <tr>\n",
       "      <th>1786</th>\n",
       "      <td>1987-08-18</td>\n",
       "      <td>6.625</td>\n",
       "    </tr>\n",
       "    <tr>\n",
       "      <th>1821</th>\n",
       "      <td>1987-09-22</td>\n",
       "      <td>7.250</td>\n",
       "    </tr>\n",
       "  </tbody>\n",
       "</table>\n",
       "</div>"
      ],
      "text/plain": [
       "     observation_date  DFEDTAR\n",
       "1786       1987-08-18    6.625\n",
       "1821       1987-09-22    7.250"
      ]
     },
     "execution_count": 42,
     "metadata": {},
     "output_type": "execute_result"
    }
   ],
   "source": [
    "data_fedtar_meetings.head(2)"
   ]
  },
  {
   "cell_type": "code",
   "execution_count": 43,
   "metadata": {
    "ExecuteTime": {
     "end_time": "2019-01-29T19:52:45.151183Z",
     "start_time": "2019-01-29T19:52:45.140062Z"
    }
   },
   "outputs": [],
   "source": [
    "data_fedtar_meetings.set_index('observation_date', inplace=True)"
   ]
  },
  {
   "cell_type": "code",
   "execution_count": 44,
   "metadata": {
    "ExecuteTime": {
     "end_time": "2019-01-29T19:54:02.532439Z",
     "start_time": "2019-01-29T19:54:02.219173Z"
    },
    "scrolled": true
   },
   "outputs": [
    {
     "data": {
      "text/plain": [
       "<matplotlib.legend.Legend at 0x112431358>"
      ]
     },
     "execution_count": 44,
     "metadata": {},
     "output_type": "execute_result"
    },
    {
     "data": {
      "image/png": "[encoded data removed]",
      "text/plain": [
       "<Figure size 432x288 with 1 Axes>"
      ]
     },
     "metadata": {
      "needs_background": "light"
     },
     "output_type": "display_data"
    }
   ],
   "source": [
    "data_fedtar_meetings.plot()\n",
    "plt.xlabel('Date')\n",
    "plt.legend(['Intended Fed Funds Rate'])"
   ]
  },
  {
   "cell_type": "markdown",
   "metadata": {},
   "source": [
    "## b) Mean Function and Autocovariance Function"
   ]
  },
  {
   "cell_type": "markdown",
   "metadata": {},
   "source": [
    "We now have to time series indexed by the meeting date of the FOMC. We are going to start thinking about the statistical properties of these time series.  "
   ]
  },
  {
   "cell_type": "markdown",
   "metadata": {},
   "source": [
    "The **mean function** of a real-valued time series is the function\n",
    "$$\\mu_{X}: \\{1,\\dots T\\} \\rightarrow \\mathbb{R}$$\n",
    "defined by:\n",
    "$$\\mu_{X}(t) \\equiv E[X_t]$$\n",
    "\n",
    "The mean function is one of the features of a time series model that allows us to understand how the marginal distributions of a time series changes over time. \n"
   ]
  },
  {
   "cell_type": "markdown",
   "metadata": {},
   "source": [
    "The mean function is a population object, so we usually think of it as being unknown. The goal is to try to estimate it using the data. Of course, if the mean function varies too much; there is no chance to learn anything about the it. \n",
    "\n",
    "A typical assumption imposed in time series analysis is called *mean stationarity*, this means that\n",
    "\n",
    "$$ \\mu_X(t) = \\mu.$$\n",
    "\n",
    "That is, the mean function does not depend on $t$.  "
   ]
  },
  {
   "cell_type": "markdown",
   "metadata": {},
   "source": [
    "Under certain conditions, we can estimate the mean of a mean stationary time series model by using the sample average; that is:\n",
    "\n",
    "$$ \\widehat{\\mu}_{T} = \\frac{1}{T} \\sum_{t=1}^{T} X_t $$"
   ]
  },
  {
   "cell_type": "markdown",
   "metadata": {},
   "source": [
    "We can estimate the mean function of the federal funds rate target by doing:"
   ]
  },
  {
   "cell_type": "code",
   "execution_count": 50,
   "metadata": {
    "ExecuteTime": {
     "end_time": "2019-01-29T20:08:25.843026Z",
     "start_time": "2019-01-29T20:08:25.836485Z"
    }
   },
   "outputs": [
    {
     "data": {
      "text/plain": [
       "4.78"
      ]
     },
     "execution_count": 50,
     "metadata": {},
     "output_type": "execute_result"
    }
   ],
   "source": [
    "data_fedtar_meetings[\"DFEDTAR\"].mean()"
   ]
  },
  {
   "cell_type": "markdown",
   "metadata": {},
   "source": [
    "In the same way, we can compute the frequency with which Greenspan used the word inflation"
   ]
  },
  {
   "cell_type": "code",
   "execution_count": 52,
   "metadata": {},
   "outputs": [
    {
     "data": {
      "text/plain": [
       "2.486666666666667"
      ]
     },
     "execution_count": 52,
     "metadata": {},
     "output_type": "execute_result"
    }
   ],
   "source": [
    "count_greenspan[0].mean()"
   ]
  },
  {
   "cell_type": "markdown",
   "metadata": {},
   "source": [
    "(note the difference in indexing)"
   ]
  },
  {
   "cell_type": "markdown",
   "metadata": {},
   "source": [
    " The mean function is only one piece of the information contained in time series data. "
   ]
  },
  {
   "cell_type": "markdown",
   "metadata": {},
   "source": [
    "The **covariance function** of a real-valued time series is the function:\n",
    "\n",
    "$$ \\gamma_{X}: \\{1,\\ldots, T\\} \\times \\{1, \\ldots, T\\} \\rightarrow \\mathbb{R} $$\n",
    "\n",
    "defined by:\n",
    "\n",
    "$$\\gamma_{X}(s,t) \\equiv \\textrm{Cov} ( X_s, X_t ) $$\n",
    "\n",
    "The *autocorrelation function* is simply defined as\n",
    "\n",
    "$$ \\rho_{X}(r,s) = \\gamma_X(r,s) / \\sqrt{\\gamma_{X}(r,r)} \\sqrt{\\gamma_{X}(s,s)}   $$\n"
   ]
  },
  {
   "cell_type": "markdown",
   "metadata": {},
   "source": [
    "To plot the autocorrelation function we will import the [plot_acf](http://www.statsmodels.org/devel/generated/statsmodels.graphics.tsaplots.plot_acf.html) function from the statsmodels.graphics.tsaplots"
   ]
  },
  {
   "cell_type": "code",
   "execution_count": 70,
   "metadata": {},
   "outputs": [],
   "source": [
    "from statsmodels.graphics.tsaplots import plot_acf"
   ]
  },
  {
   "cell_type": "code",
   "execution_count": 88,
   "metadata": {},
   "outputs": [
    {
     "data": {
      "image/png": "[encoded data removed]",
      "text/plain": [
       "<Figure size 432x288 with 1 Axes>"
      ]
     },
     "metadata": {
      "needs_background": "light"
     },
     "output_type": "display_data"
    }
   ],
   "source": [
    "acffedtar=plot_acf(data_fedtar_meetings[\"DFEDTAR\"],lags=48, alpha=1, title='Sample Autocorrelation: DFEDTAR')"
   ]
  },
  {
   "cell_type": "code",
   "execution_count": 89,
   "metadata": {},
   "outputs": [
    {
     "data": {
      "image/png": "[encoded data removed]",
      "text/plain": [
       "<Figure size 432x288 with 1 Axes>"
      ]
     },
     "metadata": {
      "needs_background": "light"
     },
     "output_type": "display_data"
    }
   ],
   "source": [
    "acfgreen=plot_acf(count_greenspan[0],lags=48, alpha=1,title='Sample Autocorrelation: Greenspan-Inflation-Count')"
   ]
  },
  {
   "cell_type": "code",
   "execution_count": 45,
   "metadata": {
    "ExecuteTime": {
     "end_time": "2019-01-29T20:01:43.786759Z",
     "start_time": "2019-01-29T20:01:43.469234Z"
    }
   },
   "outputs": [
    {
     "data": {
      "text/plain": [
       "<matplotlib.collections.PathCollection at 0x11c3240f0>"
      ]
     },
     "execution_count": 45,
     "metadata": {},
     "output_type": "execute_result"
    },
    {
     "data": {
      "image/png": "[encoded data removed]",
      "text/plain": [
       "<Figure size 432x288 with 1 Axes>"
      ]
     },
     "metadata": {
      "needs_background": "light"
     },
     "output_type": "display_data"
    }
   ],
   "source": [
    "plt.scatter(data_fedtar_meetings[\"DFEDTAR\"], count_greenspan[0])"
   ]
  },
  {
   "cell_type": "code",
   "execution_count": 46,
   "metadata": {
    "ExecuteTime": {
     "end_time": "2019-01-29T20:02:37.053197Z",
     "start_time": "2019-01-29T20:02:37.049933Z"
    }
   },
   "outputs": [],
   "source": [
    "import numpy as np"
   ]
  },
  {
   "cell_type": "code",
   "execution_count": 49,
   "metadata": {
    "ExecuteTime": {
     "end_time": "2019-01-29T20:06:48.929837Z",
     "start_time": "2019-01-29T20:06:48.923974Z"
    }
   },
   "outputs": [
    {
     "data": {
      "text/plain": [
       "0.028990747932219993"
      ]
     },
     "execution_count": 49,
     "metadata": {},
     "output_type": "execute_result"
    }
   ],
   "source": [
    "np.corrcoef(data_fedtar_meetings[\"DFEDTAR\"], count_greenspan[0])[0 , 1]"
   ]
  },
  {
   "cell_type": "code",
   "execution_count": 52,
   "metadata": {
    "ExecuteTime": {
     "end_time": "2019-01-29T20:21:33.269198Z",
     "start_time": "2019-01-29T20:21:32.144151Z"
    }
   },
   "outputs": [],
   "source": [
    "import statsmodels.api as sm"
   ]
  },
  {
   "cell_type": "markdown",
   "metadata": {},
   "source": [
    "To finish this class we will run a regression between the counts of inflation and the fed funds target. One of the things we will learn in this course is how to construct the 'right' standard errors."
   ]
  },
  {
   "cell_type": "markdown",
   "metadata": {},
   "source": [
    "One way of running a linear regression in python is by using the module 'statsmodels.api' \n",
    "\n",
    "The Quant Econ website has a nice explanation of how it works:\n",
    "\n",
    "https://lectures.quantecon.org/py/ols.html\n"
   ]
  },
  {
   "cell_type": "code",
   "execution_count": 99,
   "metadata": {
    "ExecuteTime": {
     "end_time": "2019-01-29T20:50:42.690315Z",
     "start_time": "2019-01-29T20:50:42.686998Z"
    }
   },
   "outputs": [],
   "source": [
    "count_greenspan[1]=1"
   ]
  },
  {
   "cell_type": "code",
   "execution_count": 97,
   "metadata": {
    "ExecuteTime": {
     "end_time": "2019-01-29T20:43:59.307869Z",
     "start_time": "2019-01-29T20:43:59.289532Z"
    }
   },
   "outputs": [],
   "source": [
    "resultsols=sm.OLS(endog=data_fedtar_meetings[\"DFEDTAR\"],exog=count_greenspan[[0,1]] ,missing='drop').fit(cov_type='HAC',cov_kwds={'maxlags':1})"
   ]
  },
  {
   "cell_type": "code",
   "execution_count": 98,
   "metadata": {
    "ExecuteTime": {
     "end_time": "2019-01-29T20:44:00.720042Z",
     "start_time": "2019-01-29T20:44:00.705042Z"
    }
   },
   "outputs": [
    {
     "name": "stdout",
     "output_type": "stream",
     "text": [
      "                            OLS Regression Results                            \n",
      "==============================================================================\n",
      "Dep. Variable:                DFEDTAR   R-squared:                       0.001\n",
      "Model:                            OLS   Adj. R-squared:                 -0.006\n",
      "Method:                 Least Squares   F-statistic:                    0.1637\n",
      "Date:                Tue, 29 Jan 2019   Prob (F-statistic):              0.686\n",
      "Time:                        15:44:00   Log-Likelihood:                -333.64\n",
      "No. Observations:                 150   AIC:                             671.3\n",
      "Df Residuals:                     148   BIC:                             677.3\n",
      "Df Model:                           1                                         \n",
      "Covariance Type:                  HAC                                         \n",
      "==============================================================================\n",
      "                 coef    std err          z      P>|z|      [0.025      0.975]\n",
      "------------------------------------------------------------------------------\n",
      "0              0.0270      0.067      0.405      0.686      -0.104       0.158\n",
      "1              4.7130      0.313     15.057      0.000       4.099       5.326\n",
      "==============================================================================\n",
      "Omnibus:                        4.931   Durbin-Watson:                   0.020\n",
      "Prob(Omnibus):                  0.085   Jarque-Bera (JB):                2.732\n",
      "Skew:                           0.049   Prob(JB):                        0.255\n",
      "Kurtosis:                       2.346   Cond. No.                         5.20\n",
      "==============================================================================\n",
      "\n",
      "Warnings:\n",
      "[1] Standard Errors are heteroscedasticity and autocorrelation robust (HAC) using 1 lags and without small sample correction\n"
     ]
    }
   ],
   "source": [
    "print(resultsols.summary())"
   ]
  },
  {
   "cell_type": "code",
   "execution_count": null,
   "metadata": {},
   "outputs": [],
   "source": []
  }
 ],
 "metadata": {
  "kernelspec": {
   "display_name": "Python 3",
   "language": "python",
   "name": "python3"
  },
  "language_info": {
   "codemirror_mode": {
    "name": "ipython",
    "version": 3
   },
   "file_extension": ".py",
   "mimetype": "text/x-python",
   "name": "python",
   "nbconvert_exporter": "python",
   "pygments_lexer": "ipython3",
   "version": "3.7.1"
  },
  "latex_envs": {
   "LaTeX_envs_menu_present": true,
   "autoclose": false,
   "autocomplete": true,
   "bibliofile": "biblio.bib",
   "cite_by": "apalike",
   "current_citInitial": 1,
   "eqLabelWithNumbers": true,
   "eqNumInitial": 1,
   "hotkeys": {
    "equation": "Ctrl-E",
    "itemize": "Ctrl-I"
   },
   "labels_anchors": false,
   "latex_user_defs": false,
   "report_style_numbering": false,
   "user_envs_cfg": false
  },
  "varInspector": {
   "cols": {
    "lenName": 16,
    "lenType": 16,
    "lenVar": 40
   },
   "kernels_config": {
    "python": {
     "delete_cmd_postfix": "",
     "delete_cmd_prefix": "del ",
     "library": "var_list.py",
     "varRefreshCmd": "print(var_dic_list())"
    },
    "r": {
     "delete_cmd_postfix": ") ",
     "delete_cmd_prefix": "rm(",
     "library": "var_list.r",
     "varRefreshCmd": "cat(var_dic_list()) "
    }
   },
   "position": {
    "height": "144px",
    "left": "342px",
    "right": "20px",
    "top": "101px",
    "width": "350px"
   },
   "types_to_exclude": [
    "module",
    "function",
    "builtin_function_or_method",
    "instance",
    "_Feature"
   ],
   "window_display": false
  }
 },
 "nbformat": 4,
 "nbformat_minor": 2
}
